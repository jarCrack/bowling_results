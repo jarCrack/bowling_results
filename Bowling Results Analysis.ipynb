{
 "cells": [
  {
   "cell_type": "markdown",
   "metadata": {},
   "source": [
    "# Load bowling results data and show"
   ]
  },
  {
   "cell_type": "code",
   "execution_count": 86,
   "metadata": {
    "collapsed": false
   },
   "outputs": [
    {
     "name": "stdout",
     "output_type": "stream",
     "text": [
      "       Datum Spielername  Runde  Ligaspiel  unter Alkohol  Rundenpunktzahl\n",
      "0   04.10.16        Jörn      1        0.0            1.0             80.0\n",
      "1   04.10.16        Jörn      2        0.0            1.0             88.0\n",
      "2   04.10.16        Jörn      3        0.0            1.0             70.0\n",
      "3   04.10.16        Jörn      4        0.0            1.0             62.0\n",
      "4   04.10.16         Jan      1        0.0            1.0            100.0\n",
      "5   04.10.16         Jan      2        0.0            1.0            140.0\n",
      "6   04.10.16         Jan      3        0.0            1.0             90.0\n",
      "7   04.10.16         Jan      4        0.0            1.0             80.0\n",
      "8   11.10.16        Jörn      2        0.0            1.0            340.0\n",
      "9   11.10.16         Jan      2        0.0            1.0            500.0\n",
      "10  10.01.00         Jan      3        NaN            NaN              NaN\n"
     ]
    }
   ],
   "source": [
    "%matplotlib inline\n",
    "import seaborn as sb\n",
    "import pandas as pd\n",
    "import matplotlib.pyplot as plt\n",
    "\n",
    "dat=pd.read_csv(\"Spielstatistik.csv\",header=1,parse_dates=True)\n",
    "print(dat)"
   ]
  },
  {
   "cell_type": "markdown",
   "metadata": {},
   "source": [
    "## Show results of player and date"
   ]
  },
  {
   "cell_type": "code",
   "execution_count": 87,
   "metadata": {
    "collapsed": false,
    "scrolled": true
   },
   "outputs": [
    {
     "data": {
      "text/plain": [
       "<matplotlib.text.Text at 0x7f0b6dce0f60>"
      ]
     },
     "execution_count": 87,
     "metadata": {},
     "output_type": "execute_result"
    },
    {
     "data": {
      "image/png": "[encoded data removed]",
      "text/plain": [
       "<matplotlib.figure.Figure at 0x7f0b6dbedc18>"
      ]
     },
     "metadata": {},
     "output_type": "display_data"
    }
   ],
   "source": [
    "player=\"Jan\"\n",
    "result=dat[dat[\"Spielername\"]==player][\"Rundenpunktzahl\"]\n",
    "plt.plot(result)\n",
    "plt.xlabel(\"Runde\")\n",
    "plt.ylabel(\"Punktzahl\")\n",
    "\n",
    "\n"
   ]
  },
  {
   "cell_type": "markdown",
   "metadata": {},
   "source": [
    "## Best player for date"
   ]
  },
  {
   "cell_type": "code",
   "execution_count": 88,
   "metadata": {
    "collapsed": false
   },
   "outputs": [
    {
     "data": {
      "text/plain": [
       "<matplotlib.axes._subplots.AxesSubplot at 0x7f0b6dd27320>"
      ]
     },
     "execution_count": 88,
     "metadata": {},
     "output_type": "execute_result"
    },
    {
     "data": {
      "image/png": "[encoded data removed]",
      "text/plain": [
       "<matplotlib.figure.Figure at 0x7f0b6dd24ac8>"
      ]
     },
     "metadata": {},
     "output_type": "display_data"
    }
   ],
   "source": [
    "sums=dat.groupby([\"Spielername\"])[\"Rundenpunktzahl\"].sum()\n",
    "sb.barplot(sums.index,sums)\n"
   ]
  },
  {
   "cell_type": "markdown",
   "metadata": {},
   "source": [
    "## Allover points in course of time"
   ]
  },
  {
   "cell_type": "code",
   "execution_count": 90,
   "metadata": {
    "collapsed": false
   },
   "outputs": [
    {
     "name": "stdout",
     "output_type": "stream",
     "text": [
      "Datum\n",
      "04.10.16    300.0\n",
      "11.10.16    340.0\n",
      "Name: Rundenpunktzahl, dtype: float64\n"
     ]
    },
    {
     "data": {
      "text/plain": [
       "[<matplotlib.lines.Line2D at 0x7f0b6db545f8>]"
      ]
     },
     "execution_count": 90,
     "metadata": {},
     "output_type": "execute_result"
    },
    {
     "data": {
      "image/png": "[encoded data removed]",
      "text/plain": [
       "<matplotlib.figure.Figure at 0x7f0b6dccdcf8>"
      ]
     },
     "metadata": {},
     "output_type": "display_data"
    }
   ],
   "source": [
    "player=\"Jörn\"\n",
    "filtered_dat=dat[dat[\"Spielername\"]==player].groupby([\"Datum\"])\n",
    "filtered_dat=filtered_dat[\"Rundenpunktzahl\"].sum()\n",
    "print(filtered_dat)\n",
    "\n",
    "plt.plot(filtered_dat,filtered_dat)"
   ]
  },
  {
   "cell_type": "code",
   "execution_count": null,
   "metadata": {
    "collapsed": true
   },
   "outputs": [],
   "source": []
  }
 ],
 "metadata": {
  "kernelspec": {
   "display_name": "Python 3",
   "language": "python",
   "name": "python3"
  },
  "language_info": {
   "codemirror_mode": {
    "name": "ipython",
    "version": 3
   },
   "file_extension": ".py",
   "mimetype": "text/x-python",
   "name": "python",
   "nbconvert_exporter": "python",
   "pygments_lexer": "ipython3",
   "version": "3.5.2"
  }
 },
 "nbformat": 4,
 "nbformat_minor": 0
}
